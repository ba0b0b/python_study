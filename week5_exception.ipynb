{
 "cells": [
  {
   "cell_type": "markdown",
   "metadata": {},
   "source": [
    "## 파이썬 예외처리\n",
    "파이썬으로 프로젝트를 진행하다보면 예외처리를 해야하는 상황을 만나게 됩니다.  \n",
    "우리가 작성한 코드가 우리가 의도한 대로 동작하지 않을 수도 있습니다.  \n",
    "이 때마다 에러가 발생하게 되어 파이썬 프로세스가 멈춰버린다면 서비스에 큰 장애가 일어나겠죠?  \n",
    "바로 이런 경우 예외 처리를 통해서 해결할 수 있습니다.  \n",
    "\n",
    "먼저 숫자 두 개를 입력받고, 하나를 다른 하나로 나눈 결과를 출력하는 코드를 작성해보겠습니다.  "
   ]
  },
  {
   "cell_type": "code",
   "execution_count": 1,
   "metadata": {},
   "outputs": [],
   "source": [
    "def divide(a, b):\n",
    "    return a / b"
   ]
  },
  {
   "cell_type": "code",
   "execution_count": 2,
   "metadata": {},
   "outputs": [
    {
     "name": "stdout",
     "output_type": "stream",
     "text": [
      "input num a: 10\n",
      "input num b: 2\n",
      "divide a / b:  5.0\n"
     ]
    }
   ],
   "source": [
    "a = int(input('input num a: '))\n",
    "b = int(input('input num b: '))\n",
    "print('divide a / b: ', divide(a, b))"
   ]
  },
  {
   "cell_type": "markdown",
   "metadata": {},
   "source": [
    "하지만 b에 0이 입력될 경우엔 어떻게 될까요?  \n",
    "바로 예외 상황 에러가 발생하게 됩니다."
   ]
  },
  {
   "cell_type": "code",
   "execution_count": 4,
   "metadata": {},
   "outputs": [
    {
     "name": "stdout",
     "output_type": "stream",
     "text": [
      "input num a: 10\n",
      "input num b: 0\n"
     ]
    },
    {
     "ename": "ZeroDivisionError",
     "evalue": "division by zero",
     "output_type": "error",
     "traceback": [
      "\u001b[0;31m---------------------------------------------------------------------------\u001b[0m",
      "\u001b[0;31mZeroDivisionError\u001b[0m                         Traceback (most recent call last)",
      "\u001b[0;32m<ipython-input-4-5d2f39146f2d>\u001b[0m in \u001b[0;36m<module>\u001b[0;34m\u001b[0m\n\u001b[1;32m      1\u001b[0m \u001b[0ma\u001b[0m \u001b[0;34m=\u001b[0m \u001b[0mint\u001b[0m\u001b[0;34m(\u001b[0m\u001b[0minput\u001b[0m\u001b[0;34m(\u001b[0m\u001b[0;34m'input num a: '\u001b[0m\u001b[0;34m)\u001b[0m\u001b[0;34m)\u001b[0m\u001b[0;34m\u001b[0m\u001b[0;34m\u001b[0m\u001b[0m\n\u001b[1;32m      2\u001b[0m \u001b[0mb\u001b[0m \u001b[0;34m=\u001b[0m \u001b[0mint\u001b[0m\u001b[0;34m(\u001b[0m\u001b[0minput\u001b[0m\u001b[0;34m(\u001b[0m\u001b[0;34m'input num b: '\u001b[0m\u001b[0;34m)\u001b[0m\u001b[0;34m)\u001b[0m\u001b[0;34m\u001b[0m\u001b[0;34m\u001b[0m\u001b[0m\n\u001b[0;32m----> 3\u001b[0;31m \u001b[0mprint\u001b[0m\u001b[0;34m(\u001b[0m\u001b[0;34m'divide a / b: '\u001b[0m\u001b[0;34m,\u001b[0m \u001b[0mdivide\u001b[0m\u001b[0;34m(\u001b[0m\u001b[0ma\u001b[0m\u001b[0;34m,\u001b[0m \u001b[0mb\u001b[0m\u001b[0;34m)\u001b[0m\u001b[0;34m)\u001b[0m\u001b[0;34m\u001b[0m\u001b[0;34m\u001b[0m\u001b[0m\n\u001b[0m",
      "\u001b[0;32m<ipython-input-1-dc50b17f0ae8>\u001b[0m in \u001b[0;36mdivide\u001b[0;34m(a, b)\u001b[0m\n\u001b[1;32m      1\u001b[0m \u001b[0;32mdef\u001b[0m \u001b[0mdivide\u001b[0m\u001b[0;34m(\u001b[0m\u001b[0ma\u001b[0m\u001b[0;34m,\u001b[0m \u001b[0mb\u001b[0m\u001b[0;34m)\u001b[0m\u001b[0;34m:\u001b[0m\u001b[0;34m\u001b[0m\u001b[0;34m\u001b[0m\u001b[0m\n\u001b[0;32m----> 2\u001b[0;31m     \u001b[0;32mreturn\u001b[0m \u001b[0ma\u001b[0m \u001b[0;34m/\u001b[0m \u001b[0mb\u001b[0m\u001b[0;34m\u001b[0m\u001b[0;34m\u001b[0m\u001b[0m\n\u001b[0m",
      "\u001b[0;31mZeroDivisionError\u001b[0m: division by zero"
     ]
    }
   ],
   "source": [
    "a = int(input('input num a: '))\n",
    "b = int(input('input num b: '))\n",
    "print('divide a / b: ', divide(a, b))"
   ]
  },
  {
   "cell_type": "markdown",
   "metadata": {},
   "source": [
    "이런 예외 상황들을 커버하기 위해서 divide 함수를 수정해보겠습니다.  \n",
    "그 결과로 앞서 발생했던 에러에 대해서 예외처리가 되는 것을 확인할 수 있습니다."
   ]
  },
  {
   "cell_type": "code",
   "execution_count": 14,
   "metadata": {},
   "outputs": [],
   "source": [
    "def divide(a, b):\n",
    "    try:\n",
    "        return a / b\n",
    "    except ZeroDivisionError as e:\n",
    "        print(e)\n",
    "        return None"
   ]
  },
  {
   "cell_type": "code",
   "execution_count": 15,
   "metadata": {},
   "outputs": [
    {
     "name": "stdout",
     "output_type": "stream",
     "text": [
      "input num a: 10\n",
      "input num b: 0\n",
      "division by zero\n",
      "divide a / b:  None\n"
     ]
    }
   ],
   "source": [
    "a = int(input('input num a: '))\n",
    "b = int(input('input num b: '))\n",
    "print('divide a / b: ', divide(a, b))"
   ]
  },
  {
   "cell_type": "markdown",
   "metadata": {},
   "source": [
    "앞선 예시에서는 ZeroDivisionException이라는 파이썬에 미리 정의되어 있는 예외를 처리하였습니다.  \n",
    "하지만 개발을 하다보면 직접 예외 상황들을 만들어 주어야 하는 상황이 생깁니다.  \n",
    "예를 들면 위의 divide 함수에서 음수로 나눗셈을 진행할 경우 에러를 발생시켜야한다고 가정하겠습니다."
   ]
  },
  {
   "cell_type": "code",
   "execution_count": 9,
   "metadata": {},
   "outputs": [
    {
     "name": "stdout",
     "output_type": "stream",
     "text": [
      "input num a: 10\n",
      "input num b: -1\n",
      "divide a / b:  -10.0\n"
     ]
    }
   ],
   "source": [
    "a = int(input('input num a: '))\n",
    "b = int(input('input num b: '))\n",
    "print('divide a / b: ', divide(a, b))"
   ]
  },
  {
   "cell_type": "markdown",
   "metadata": {},
   "source": [
    "현재의 코드에서는 잘 작동합니다.  \n",
    "그러면 이제 직접 예외 클래스를 만들어줌으로써 예외 처리를 해보겠습니다."
   ]
  },
  {
   "cell_type": "code",
   "execution_count": 18,
   "metadata": {},
   "outputs": [],
   "source": [
    "class MinusDivisionError(Exception):\n",
    "    def __str__(self):\n",
    "        return 'minus division error'        "
   ]
  },
  {
   "cell_type": "code",
   "execution_count": 19,
   "metadata": {},
   "outputs": [],
   "source": [
    "def divide(a, b):\n",
    "    try:\n",
    "        if b < 0:\n",
    "            raise MinusDivisionError\n",
    "        return a / b\n",
    "    except ZeroDivisionError as e:\n",
    "        print(e)\n",
    "        return None\n",
    "    except MinusDivisionError as e:\n",
    "        print(e)\n",
    "        return None"
   ]
  },
  {
   "cell_type": "code",
   "execution_count": 20,
   "metadata": {},
   "outputs": [
    {
     "name": "stdout",
     "output_type": "stream",
     "text": [
      "input num a: 10\n",
      "input num b: -1\n",
      "minus division error\n",
      "divide a / b:  None\n"
     ]
    }
   ],
   "source": [
    "a = int(input('input num a: '))\n",
    "b = int(input('input num b: '))\n",
    "print('divide a / b: ', divide(a, b))"
   ]
  },
  {
   "cell_type": "markdown",
   "metadata": {},
   "source": [
    "이렇게 직접 Exception 클래스를 상속받는 예외 클래스를 작성하고,  \n",
    "raise 구문을 통해서 예외를 일으켜보았습니다.  \n",
    "프로젝트의 규모가 커질 수록 예외 처리의 중요성도 함께 커집니다.  \n",
    "예외를 만들고, 발생시키는 방법을 잘 숙지하여 활용할 수 있으면 좋겠습니다.  \n",
    "감사합니다!"
   ]
  }
 ],
 "metadata": {
  "kernelspec": {
   "display_name": "Python 3",
   "language": "python",
   "name": "python3"
  },
  "language_info": {
   "codemirror_mode": {
    "name": "ipython",
    "version": 3
   },
   "file_extension": ".py",
   "mimetype": "text/x-python",
   "name": "python",
   "nbconvert_exporter": "python",
   "pygments_lexer": "ipython3",
   "version": "3.7.1"
  }
 },
 "nbformat": 4,
 "nbformat_minor": 2
}
