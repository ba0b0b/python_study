{
 "cells": [
  {
   "cell_type": "markdown",
   "metadata": {},
   "source": [
    "## Python Unittest\n",
    "파이썬 프로젝트가 복잡해지면 특정 기능이 제대로 동작하고 있는지 확인하기가 점점 어려워집니다.  \n",
    "일일이 print나 디버그 툴로 개발하는 것도 한계가 있겠지요?  \n",
    "이 때 필요한 것이 바로 단위 테스트 (Unit Test)입니다.\n",
    "전체 프로그램들을 작은 단위들로 쪼갭니다.  \n",
    "그리고 이를 각각 테스트하여 예상대로 동작하는 지를 확인하는 것입니다.  \n",
    "이번 스터디에서는 파이썬 자체에 내장되어있는 unittest 모듈을 활용하여 단위 테스트를 작성해보도록 하겠습니다.  \n",
    "\n",
    "먼저 hello라는 문자열을 반환하는 함수를 작성해보겠습니다."
   ]
  },
  {
   "cell_type": "code",
   "execution_count": 2,
   "metadata": {},
   "outputs": [],
   "source": [
    "def hello():\n",
    "    return 'hello'"
   ]
  },
  {
   "cell_type": "markdown",
   "metadata": {},
   "source": [
    "그 다음 hello 함수가 제대로 작동하는지 여부를 확인하는 테스트 코드를 작성해보겠습니다."
   ]
  },
  {
   "cell_type": "code",
   "execution_count": 7,
   "metadata": {},
   "outputs": [
    {
     "name": "stderr",
     "output_type": "stream",
     "text": [
      ".\n",
      "----------------------------------------------------------------------\n",
      "Ran 1 test in 0.001s\n",
      "\n",
      "OK\n"
     ]
    }
   ],
   "source": [
    "import unittest\n",
    "\n",
    "class MyTest(unittest.TestCase):\n",
    "    def test_hello(self):\n",
    "        hello_result = hello()\n",
    "        assert(hello_result=='hello')\n",
    "\n",
    "if __name__=='__main__':\n",
    "    unittest.main(argv=[''], exit=False)"
   ]
  },
  {
   "cell_type": "markdown",
   "metadata": {},
   "source": [
    "먼저 unittest.TestCase를 상속하는 MyTest라는 클래스를 작성합니다.  \n",
    "그리고 그 안에서 hello() 함수를 호출하여 결과값을 가져옵니다.  \n",
    "이 결과값이 예상하는 결과와 같은 지를 assert 구문을 통해서 검사하는 것입니다.  \n",
    "예상대로 'hello'가 리턴되면 테스트 통과, 그렇지 못하면 테스트는 실패하게 됩니다.  \n",
    "\n",
    "이번에는 좀 더 복잡하게 클래스를 테스트하는 코드를 작성해보겠습니다.  \n",
    "먼저 테스트의 대상이 되는 클래스를 작성합니다.  \n",
    "\n",
    "이름과 나이를 변수로 가지는 Person 클래스를 만들었습니다.  \n",
    "그리고 자신의 이름과 나이를 소개하는 함수를 추가해주었습니다."
   ]
  },
  {
   "cell_type": "code",
   "execution_count": 15,
   "metadata": {},
   "outputs": [],
   "source": [
    "class Person:\n",
    "    def __init__(self, name, age):\n",
    "        self.name = name\n",
    "        self.age = age\n",
    "    def sayname(self):\n",
    "        return 'my name is {0}'.format(self.name)\n",
    "    def sayage(self):\n",
    "        return \"I'm {0} years old\".format(self.age)"
   ]
  },
  {
   "cell_type": "code",
   "execution_count": 16,
   "metadata": {},
   "outputs": [
    {
     "name": "stderr",
     "output_type": "stream",
     "text": [
      "..\n",
      "----------------------------------------------------------------------\n",
      "Ran 2 tests in 0.001s\n",
      "\n",
      "OK\n"
     ]
    }
   ],
   "source": [
    "import unittest\n",
    "\n",
    "class MyTest(unittest.TestCase):\n",
    "    def setUp(self):\n",
    "        self.person = Person('HyeongJun', 25)\n",
    "    \n",
    "    def test_name(self):\n",
    "        name_result = self.person.sayname()\n",
    "        assert(name_result=='my name is HyeongJun')\n",
    "    \n",
    "    def test_age(self):\n",
    "        age_result = self.person.sayage()\n",
    "        assert(age_result==\"I'm 25 years old\")\n",
    "        \n",
    "if __name__=='__main__':\n",
    "    unittest.main(argv=[''], exit=False)"
   ]
  },
  {
   "cell_type": "markdown",
   "metadata": {},
   "source": [
    "위 테스트 코드를 보시면 setUp 이라는 함수를 추가한 것을 볼 수 있습니다.  \n",
    "이는 테스트를 시작하기 전에 준비 작업을 하는 단계로,  \n",
    "해당 테스트에서는 Person 객체를 생성해주는 작업을 합니다."
   ]
  },
  {
   "cell_type": "markdown",
   "metadata": {},
   "source": [
    "## 마치며\n",
    "지금까지 파이썬에서 단위 테스트를 작성하는 방법을 알아보았습니다.  \n",
    "프로젝트가 커지면 커질 수록 꼼꼼하게 테스트 코드를 작성하는 것은 매우 중요합니다.  \n",
    "다음 시간에는 이러한 유닛 테스트들을 이어붙여서 실제 사용자가 사용하는 듯한 시나리오를 테스트하는  \n",
    "인터그레이션 테스트를 작성하는 법을 알아볼도록 하겠습니다.  \n",
    "감사합니다."
   ]
  }
 ],
 "metadata": {
  "kernelspec": {
   "display_name": "Python 3",
   "language": "python",
   "name": "python3"
  },
  "language_info": {
   "codemirror_mode": {
    "name": "ipython",
    "version": 3
   },
   "file_extension": ".py",
   "mimetype": "text/x-python",
   "name": "python",
   "nbconvert_exporter": "python",
   "pygments_lexer": "ipython3",
   "version": "3.7.1"
  }
 },
 "nbformat": 4,
 "nbformat_minor": 2
}
