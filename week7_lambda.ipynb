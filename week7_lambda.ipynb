{
 "cells": [
  {
   "cell_type": "markdown",
   "metadata": {},
   "source": [
    "## Python Lambda\n",
    "프로그래밍 언어에서 람다란 함수를 선언하지 않고도, 파라미터와 로직을 매핑하여 주는 문법입니다.  \n",
    "파이썬 뿐만 아니라 자바, c++ 등 다양한 언어들에서도 많이 사용되는 문법입니다.  \n",
    "아직 감이 잘 오지 않으실 텐데, 예제 코드를 통해서 알아보도록 하겠습니다.  "
   ]
  },
  {
   "cell_type": "code",
   "execution_count": 1,
   "metadata": {},
   "outputs": [
    {
     "name": "stdout",
     "output_type": "stream",
     "text": [
      "15\n"
     ]
    }
   ],
   "source": [
    "def multiply(x, y):\n",
    "    return x * y\n",
    "print(multiply(5, 3))"
   ]
  },
  {
   "cell_type": "code",
   "execution_count": 6,
   "metadata": {},
   "outputs": [
    {
     "data": {
      "text/plain": [
       "15"
      ]
     },
     "execution_count": 6,
     "metadata": {},
     "output_type": "execute_result"
    }
   ],
   "source": [
    "(lambda x,y: x * y)(5, 3)"
   ]
  },
  {
   "cell_type": "markdown",
   "metadata": {},
   "source": [
    "이 둘의 차이가 보이시나요? 함수를 선언하고, 해당 함수에 파라미터를 넣어서 값을 얻는 대신,  \n",
    "lambda 문법을 통해서 파라미터를 선언하고, 이를 곧바로 처리하는 계산을 매핑해줍니다.  \n",
    "이를 통해서 3줄로 표현되던 로직이 한 줄로 표현할 수 있는 효과가 있습니다."
   ]
  },
  {
   "cell_type": "markdown",
   "metadata": {},
   "source": [
    "람다는 다시 사용할 일이 없는 간단한 함수를 선언할 때 사용합니다.  \n",
    "대표적인 예시가 딕셔너리 정렬입니다.  \n",
    "예제 코드를 통해서 살펴볼까요?"
   ]
  },
  {
   "cell_type": "code",
   "execution_count": 10,
   "metadata": {
    "scrolled": true
   },
   "outputs": [
    {
     "name": "stdout",
     "output_type": "stream",
     "text": [
      "웬디: 1\n",
      "조이: 3\n",
      "아이린: 5\n",
      "슬기: 6\n",
      "예리: 7\n"
     ]
    }
   ],
   "source": [
    "mail_box = {\"슬기\": 6, \"아이린\": 5, \"웬디\": 1, \"예리\": 7, \"조이\": 3}\n",
    "sorted_keys = sorted(mail_box, key=lambda x: mail_box[x])\n",
    "for key in sorted_keys:\n",
    "    print(f'{key}: {mail_box[key]}')"
   ]
  },
  {
   "cell_type": "markdown",
   "metadata": {},
   "source": [
    "위 예시를 보면 sorted라는 함수에 mail_box 딕셔너리를 파라미터로 넣어줍니다.  \n",
    "이는 딕셔너리의 key 값에 해당하는 요소들을 반복적으로 가져옵니다.  \n",
    "그 다음 key=lambda 라고 선언한 부분은 정렬을 할 때 어떠한 값을 기준으로 할 지를 정하는 부분입니다.  \n",
    "여기서는 sorted 함수가 차례로 가져오는 key 값을 x로 놓고,  \n",
    "딕셔너리에서 이 key로 꺼내온 값을 정렬의 기준으로 삼습니다.  \n",
    "즉, 메일을 가장 적게 받은 순서대로 정렬된 키 값들의 리스트를 리턴해줍니다."
   ]
  },
  {
   "cell_type": "code",
   "execution_count": 11,
   "metadata": {},
   "outputs": [
    {
     "name": "stdout",
     "output_type": "stream",
     "text": [
      "예리: 7\n",
      "슬기: 6\n",
      "아이린: 5\n",
      "조이: 3\n",
      "웬디: 1\n"
     ]
    }
   ],
   "source": [
    "mail_box = {\"슬기\": 6, \"아이린\": 5, \"웬디\": 1, \"예리\": 7, \"조이\": 3}\n",
    "sorted_keys = sorted(mail_box, key=lambda x: mail_box[x], reverse=True)\n",
    "for key in sorted_keys:\n",
    "    print(f'{key}: {mail_box[key]}')"
   ]
  },
  {
   "cell_type": "markdown",
   "metadata": {},
   "source": [
    "만일 메일을 많이 받은 순서대로 정렬하고 싶다면 sorted 함수에  \n",
    "reverse=True 라는 옵션을 지정해주면 됩니다.  "
   ]
  },
  {
   "cell_type": "markdown",
   "metadata": {},
   "source": [
    "## 마치며\n",
    "지금까지 람다 함수의 개념과 간단한 사용 예시를 살펴보았습니다.  \n",
    "람다는 길게 늘어질 수 있는 표현을 직관적이고 심플하게 표현할 수 있는 방법입니다.  \n",
    "처음에는 익숙하지 않겠지만, 잘 익혀서 유용한 도구로 활용할 수 있으면 좋겠습니다.  \n",
    "감사합니다.  "
   ]
  },
  {
   "cell_type": "code",
   "execution_count": null,
   "metadata": {},
   "outputs": [],
   "source": []
  }
 ],
 "metadata": {
  "kernelspec": {
   "display_name": "Python 3",
   "language": "python",
   "name": "python3"
  },
  "language_info": {
   "codemirror_mode": {
    "name": "ipython",
    "version": 3
   },
   "file_extension": ".py",
   "mimetype": "text/x-python",
   "name": "python",
   "nbconvert_exporter": "python",
   "pygments_lexer": "ipython3",
   "version": "3.7.3"
  }
 },
 "nbformat": 4,
 "nbformat_minor": 2
}
