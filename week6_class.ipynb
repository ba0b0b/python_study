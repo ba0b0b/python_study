{
 "cells": [
  {
   "cell_type": "markdown",
   "metadata": {},
   "source": [
    "## Python ClassMethod\n",
    "파이썬에서는 클래스를 작성하여 객체를 만들 수 있습니다.  \n",
    "그리고 그 객체 안에 메서드를 작성할 수도 있습니다.  \n",
    "간단한 예제를 통해서 살펴보겠습니다.  "
   ]
  },
  {
   "cell_type": "code",
   "execution_count": 5,
   "metadata": {},
   "outputs": [],
   "source": [
    "class Person:\n",
    "    def __init__(self, name, age):\n",
    "        self.name = name\n",
    "        self.age = age\n",
    "    def info(self):\n",
    "        print('name: {0}\\n age: {1}'.format(self.name, self.age))"
   ]
  },
  {
   "cell_type": "code",
   "execution_count": 6,
   "metadata": {},
   "outputs": [
    {
     "name": "stdout",
     "output_type": "stream",
     "text": [
      "name: mike\n",
      " age: 20\n"
     ]
    },
    {
     "ename": "TypeError",
     "evalue": "info() missing 1 required positional argument: 'self'",
     "output_type": "error",
     "traceback": [
      "\u001b[0;31m---------------------------------------------------------------------------\u001b[0m",
      "\u001b[0;31mTypeError\u001b[0m                                 Traceback (most recent call last)",
      "\u001b[0;32m<ipython-input-6-9a49ec9ad4d5>\u001b[0m in \u001b[0;36m<module>\u001b[0;34m\u001b[0m\n\u001b[1;32m      1\u001b[0m \u001b[0mmike\u001b[0m \u001b[0;34m=\u001b[0m \u001b[0mPerson\u001b[0m\u001b[0;34m(\u001b[0m\u001b[0;34m'mike'\u001b[0m\u001b[0;34m,\u001b[0m \u001b[0;36m20\u001b[0m\u001b[0;34m)\u001b[0m\u001b[0;34m\u001b[0m\u001b[0;34m\u001b[0m\u001b[0m\n\u001b[1;32m      2\u001b[0m \u001b[0mmike\u001b[0m\u001b[0;34m.\u001b[0m\u001b[0minfo\u001b[0m\u001b[0;34m(\u001b[0m\u001b[0;34m)\u001b[0m\u001b[0;34m\u001b[0m\u001b[0;34m\u001b[0m\u001b[0m\n\u001b[0;32m----> 3\u001b[0;31m \u001b[0mPerson\u001b[0m\u001b[0;34m.\u001b[0m\u001b[0minfo\u001b[0m\u001b[0;34m(\u001b[0m\u001b[0;34m)\u001b[0m\u001b[0;34m\u001b[0m\u001b[0;34m\u001b[0m\u001b[0m\n\u001b[0m",
      "\u001b[0;31mTypeError\u001b[0m: info() missing 1 required positional argument: 'self'"
     ]
    }
   ],
   "source": [
    "mike = Person('mike', 20)\n",
    "mike.info()\n",
    "Person.info()"
   ]
  },
  {
   "cell_type": "markdown",
   "metadata": {},
   "source": [
    "위에서는 Person이라는 클래스를 만들고, 객체를 생성하여 info() 함수를 호출하였습니다.  \n",
    "그 결과로 이름과 나이를 출력하는 것을 볼 수 있습니다.  \n",
    "객체를 만들지 않고 바로 클래스를 통해서 info를 호출하게 되면 에러가 발생합니다.  \n",
    "이렇게 객체를 만들어야만 호출할 수 있는 함수를 인스턴스 메서드라고 합니다.  \n",
    "\n",
    "이제 객체를 만들지 않고도 호출할 수 있는 static method와 class method에 대해서 알아보겠습니다.  \n",
    "Person 클래스에 각각 statichello와 classhello 함수를 작성한 뒤, 각각 데코레이터를 달아줍니다.  "
   ]
  },
  {
   "cell_type": "code",
   "execution_count": 22,
   "metadata": {},
   "outputs": [],
   "source": [
    "class Person:\n",
    "    classname = 'Person'\n",
    "    \n",
    "    def __init__(self, name, age):\n",
    "        self.name = name\n",
    "        self.age = age\n",
    "        \n",
    "    @staticmethod\n",
    "    def statichello(msg):\n",
    "        print('Hello {0}'.format(msg))\n",
    "        \n",
    "    @classmethod\n",
    "    def classhello(cls, msg):\n",
    "        print('Hello {0}'.format(msg))"
   ]
  },
  {
   "cell_type": "code",
   "execution_count": 23,
   "metadata": {},
   "outputs": [
    {
     "name": "stdout",
     "output_type": "stream",
     "text": [
      "Hello World\n",
      "Hello World\n"
     ]
    }
   ],
   "source": [
    "Person.classhello('World')\n",
    "Person.statichello('World')"
   ]
  },
  {
   "cell_type": "markdown",
   "metadata": {},
   "source": [
    "두 함수 모두 동일하게 결과를 출력하는 것을 볼 수 있습니다.  \n",
    "하지만 두 함수는 상속과 관련해서 미세한 차이를 보이는데요, 이 차이를 알아보겠습니다.  \n",
    "먼저 Person 클래스를 약간 수정하고, 이를 상속받는 Student라는 객체를 만들어보겠습니다.  "
   ]
  },
  {
   "cell_type": "code",
   "execution_count": 29,
   "metadata": {},
   "outputs": [],
   "source": [
    "class Person:\n",
    "    classname = 'Person'\n",
    "    \n",
    "    def __init__(self, name, age):\n",
    "        self.name = name\n",
    "        self.age = age\n",
    "        \n",
    "    @staticmethod\n",
    "    def static_person(name, age):\n",
    "        return Person(name, age)\n",
    "        \n",
    "    @classmethod\n",
    "    def class_person(cls, name, age):\n",
    "        return cls(name, age)\n",
    "    \n",
    "    def info(self):\n",
    "        print('class: {0}\\n name: {1}\\n age: {2}'.format(self.classname, self.name, self.age))\n",
    "\n",
    "class Student(Person):\n",
    "    classname = 'Student'"
   ]
  },
  {
   "cell_type": "code",
   "execution_count": 30,
   "metadata": {},
   "outputs": [
    {
     "name": "stdout",
     "output_type": "stream",
     "text": [
      "class: Person\n",
      " name: mike\n",
      " age: 20\n",
      "class: Student\n",
      " name: jane\n",
      " age: 22\n"
     ]
    }
   ],
   "source": [
    "mike = Student.static_person('mike', 20)\n",
    "jane = Student.class_person('jane', 22)\n",
    "mike.info()\n",
    "jane.info()"
   ]
  },
  {
   "cell_type": "markdown",
   "metadata": {},
   "source": [
    "둘은 같은 Student 클래스의 메서드를 호출하였습니다만, 둘은 각기 다른 클래스 명을 리턴합니다.  \n",
    "이를 통해서 스태틱 메서드는 클래스 변수를 부모 클래스에서 가져온다는 것을 알 수 있고,  \n",
    "클래스 메서드는 현재의 클래스에서 가져온다는 것을 알 수 있습니다.  "
   ]
  },
  {
   "cell_type": "markdown",
   "metadata": {},
   "source": [
    "## 마치며\n",
    "지금까지 클래스와 스태틱 메서드, 클래스 메서드의 사용, 그리고 그 둘의 차이까지 알아보았습니다.  \n",
    "사실 이런 기능들은 실제 개발을 할때는 많이 활용하지 않습니다.  \n",
    "하지만 직접 라이브러리 소스코드를 볼 때에는 많이 마주치는 문법들이므로  \n",
    "잘 익혀두었다가 당황하지 말고 개발할 수 있으면 좋겠습니다.  \n",
    "감사합니다.  "
   ]
  }
 ],
 "metadata": {
  "kernelspec": {
   "display_name": "Python 3",
   "language": "python",
   "name": "python3"
  },
  "language_info": {
   "codemirror_mode": {
    "name": "ipython",
    "version": 3
   },
   "file_extension": ".py",
   "mimetype": "text/x-python",
   "name": "python",
   "nbconvert_exporter": "python",
   "pygments_lexer": "ipython3",
   "version": "3.7.3"
  }
 },
 "nbformat": 4,
 "nbformat_minor": 2
}
