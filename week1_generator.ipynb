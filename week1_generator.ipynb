{
 "cells": [
  {
   "cell_type": "markdown",
   "metadata": {},
   "source": [
    "## Python Generator\n",
    "파이썬 제너레이터는 메모리를 효율적으로 사용하면서 반복을 수행하도록 돕는 객체입니다.  \n",
    "제너레이터가 무엇인지 감을 잡기 위해 먼저 다음과 같은 문제를 상상해보겠습니다.  \n",
    "**문제: 특정한 길이의 숫자 배열이 주어졌을 때, 이를 제곱한 수들을 담은 배열을 출력하라**\n",
    "\n",
    "이를 list를 활용하여 풀면 다음과 같이 풀 수 있습니다."
   ]
  },
  {
   "cell_type": "code",
   "execution_count": 58,
   "metadata": {},
   "outputs": [
    {
     "name": "stdout",
     "output_type": "stream",
     "text": [
      "[0, 1, 2, 3, 4, 5, 6, 7, 8, 9]\n"
     ]
    }
   ],
   "source": [
    "num_count = 10\n",
    "nums = [i for i in range(num_count)]\n",
    "print(nums)"
   ]
  },
  {
   "cell_type": "code",
   "execution_count": 59,
   "metadata": {},
   "outputs": [],
   "source": [
    "def square_list(nums):\n",
    "    result = []\n",
    "    for num in nums:\n",
    "        result.append(num * num)\n",
    "    return result"
   ]
  },
  {
   "cell_type": "code",
   "execution_count": 61,
   "metadata": {},
   "outputs": [
    {
     "name": "stdout",
     "output_type": "stream",
     "text": [
      "[0, 1, 4, 9, 16, 25, 36, 49, 64, 81]\n"
     ]
    }
   ],
   "source": [
    "result = square_list(nums)\n",
    "print(result)"
   ]
  },
  {
   "cell_type": "markdown",
   "metadata": {},
   "source": [
    "list를 이용하여 쉽게 문제를 풀 수 있는 것을 보았습니다.  \n",
    "하지만 숫자의 개수가 1억개가 된다면 어떻게 될까요?\n",
    "아마도 result에는 1억개의 제곱된 숫자가 저장한 다음 출력해야 합니다.\n",
    "\n",
    "Python Generator는 이런 방식의 반복이 비효율적이다고 생각하여 만들어졌습니다.  \n",
    "**즉, 대용량 반복을 수행해야할 때, 메모리를 더욱 효율적으로 사용하기 위한 도구가 Generator입니다.**  \n",
    "우선, generator를 사용한 방식으로 square 함수를 만들어보겠습니다."
   ]
  },
  {
   "cell_type": "code",
   "execution_count": 64,
   "metadata": {},
   "outputs": [],
   "source": [
    "def square_generator(nums):\n",
    "    for num in nums:\n",
    "        yield num * num"
   ]
  },
  {
   "cell_type": "code",
   "execution_count": 66,
   "metadata": {},
   "outputs": [
    {
     "name": "stdout",
     "output_type": "stream",
     "text": [
      "<generator object square_generator at 0x10f4d2d68>\n"
     ]
    }
   ],
   "source": [
    "result = square_generator(nums)\n",
    "print(result)"
   ]
  },
  {
   "cell_type": "markdown",
   "metadata": {},
   "source": [
    "결과를 출력해보면 배열이 아니라 generator라는 객체가 돌아온 것을 볼 수 있습니다.  \n",
    "그리고 square 함수를 보면 return 대신에 yield라는 구문을 사용한 것을 볼 수 있습니다.  \n",
    "이 차이를 이해하기 위해서는 먼저 return과 yield의 차이를 알아야합니다.\n",
    "\n",
    "먼저 return을 사용해서 임의의 수를 반환하는 함수입니다.  \n",
    "임의의 수를 생성하고, 이를 10회 반복하여 return 하도록 하였습니다.  \n",
    "하지만 return이 호출되면 반복을 멈추고, 수를 반환하며 따라서 그 뒤에 hello가 출력되지 않습니다.  \n",
    "그리고 이 때 만들었던 임의의 수는 메모리에서 할당 해제되어 다시 호출할 수 없습니다.  "
   ]
  },
  {
   "cell_type": "code",
   "execution_count": 81,
   "metadata": {},
   "outputs": [],
   "source": [
    "import random\n",
    "\n",
    "def randnum_return():\n",
    "    a = random.randint(0, 100)\n",
    "    for i in range(0, 10):\n",
    "        return a\n",
    "        print('hello')"
   ]
  },
  {
   "cell_type": "code",
   "execution_count": 87,
   "metadata": {},
   "outputs": [
    {
     "name": "stdout",
     "output_type": "stream",
     "text": [
      "4\n",
      "82\n",
      "13\n"
     ]
    }
   ],
   "source": [
    "return_result = randnum_return()\n",
    "print(return_result)\n",
    "return_result = randnum_return()\n",
    "print(randnum_return())\n",
    "return_result = randnum_return()\n",
    "print(randnum_return())"
   ]
  },
  {
   "cell_type": "markdown",
   "metadata": {},
   "source": [
    "반면에 yield가 호출되면 함수는 그 시점에서 일시 정지합니다.  \n",
    "그리고 그 시점에 함수 안에 선언되어 있는 변수들을 기억합니다.  \n",
    "next()를 통해 실행되면 yield 바로 다음 라인부터 다시 실행을 이어나갑니다.  \n",
    "**즉, yield를 호출하면 원하는 값을 리턴하며, 실행 흐름을 일시 정지하여 함수를 재활용할 수 있는 상태로 만듭니다.**"
   ]
  },
  {
   "cell_type": "code",
   "execution_count": 88,
   "metadata": {},
   "outputs": [],
   "source": [
    "def randnum_yield():\n",
    "    a = random.randint(0, 100)\n",
    "    for i in range(0, 10):\n",
    "        yield a\n",
    "        print('hello')"
   ]
  },
  {
   "cell_type": "code",
   "execution_count": 89,
   "metadata": {},
   "outputs": [
    {
     "name": "stdout",
     "output_type": "stream",
     "text": [
      "<generator object randnum_yield at 0x1cee780c0>\n",
      "65\n",
      "hello\n",
      "65\n",
      "hello\n",
      "65\n"
     ]
    }
   ],
   "source": [
    "yield_result = randnum_yield()\n",
    "print(yield_result)\n",
    "print(next(yield_result))\n",
    "print(next(yield_result))\n",
    "print(next(yield_result))"
   ]
  },
  {
   "cell_type": "markdown",
   "metadata": {},
   "source": [
    "yield와 return의 차이가 어느 정도 이해가셨나요?  \n",
    "이제 다시 generator로 돌아오겠습니다.\n",
    "next 함수를 사용하지 않고도 for문에서 generator 계산 결과를 가져올 수 있습니다."
   ]
  },
  {
   "cell_type": "code",
   "execution_count": 93,
   "metadata": {},
   "outputs": [
    {
     "name": "stdout",
     "output_type": "stream",
     "text": [
      "0\n",
      "1\n",
      "4\n",
      "9\n",
      "16\n",
      "25\n",
      "36\n",
      "49\n",
      "64\n",
      "81\n"
     ]
    }
   ],
   "source": [
    "def square_generator(nums):\n",
    "    for num in nums:\n",
    "        yield num * num\n",
    "\n",
    "nums = [i for i in range(0, 10)]\n",
    "result = square_generator(nums)\n",
    "for num in result:\n",
    "    print(num)"
   ]
  },
  {
   "cell_type": "markdown",
   "metadata": {},
   "source": [
    "어때요, 이제 generator가 어떤 역할을 하고, 어떻게 사용하는지 감이 오시나요?  \n",
    "파이썬에서는 굳이 yield를 포함한 함수를 만들기 않고도 쉽게 generator를 사용할 수 있는   \n",
    "generator expression을 제공합니다."
   ]
  },
  {
   "cell_type": "code",
   "execution_count": 96,
   "metadata": {},
   "outputs": [
    {
     "name": "stdout",
     "output_type": "stream",
     "text": [
      "<generator object <genexpr> at 0x1cee78138>\n",
      "0\n",
      "1\n",
      "4\n",
      "9\n",
      "16\n",
      "25\n",
      "36\n",
      "49\n",
      "64\n",
      "81\n"
     ]
    }
   ],
   "source": [
    "result = (i*i for i in range(0, 10))\n",
    "print(result)\n",
    "for num in result:\n",
    "    print(num)"
   ]
  },
  {
   "cell_type": "markdown",
   "metadata": {},
   "source": [
    "## 마치며\n",
    "사실 제너레이터는 성능 최적화가 필요한 상황에서 요긴하게 사용되는 것이므로  \n",
    "평상시 개발할 때 필요성을 느끼지 못하는 경우가 많습니다.  \n",
    "하지만 대용량 데이터를 처리하거나, 알고리즘 문제를 푸는 등 성능이 중요한 상황이 오게 됩니다.  \n",
    "그럴때 꼭 Generator를 잊지 말고 사용하면 좋을 듯 합니다.\n",
    "감사합니다!"
   ]
  }
 ],
 "metadata": {
  "kernelspec": {
   "display_name": "Python 3",
   "language": "python",
   "name": "python3"
  },
  "language_info": {
   "codemirror_mode": {
    "name": "ipython",
    "version": 3
   },
   "file_extension": ".py",
   "mimetype": "text/x-python",
   "name": "python",
   "nbconvert_exporter": "python",
   "pygments_lexer": "ipython3",
   "version": "3.7.1"
  }
 },
 "nbformat": 4,
 "nbformat_minor": 2
}
